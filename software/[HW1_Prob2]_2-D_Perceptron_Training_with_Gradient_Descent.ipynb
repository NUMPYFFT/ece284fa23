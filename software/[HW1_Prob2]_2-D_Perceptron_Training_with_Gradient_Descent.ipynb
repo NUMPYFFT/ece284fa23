{
 "cells": [
  {
   "cell_type": "code",
   "execution_count": 16,
   "id": "agreed-korean",
   "metadata": {},
   "outputs": [
    {
     "name": "stdout",
     "output_type": "stream",
     "text": [
      "Net(\n",
      "  (linear): Linear(in_features=2, out_features=1, bias=True)\n",
      ")\n",
      "[Parameter containing:\n",
      "tensor([[0.3627, 0.5087]], requires_grad=True), Parameter containing:\n",
      "tensor([0.4194], requires_grad=True)]\n"
     ]
    },
    {
     "data": {
      "text/plain": [
       "[<matplotlib.lines.Line2D at 0x17cbe0eb0>]"
      ]
     },
     "execution_count": 16,
     "metadata": {},
     "output_type": "execute_result"
    },
    {
     "data": {
      "image/png": "[encoded data removed]",
      "text/plain": [
       "<Figure size 640x480 with 1 Axes>"
      ]
     },
     "metadata": {},
     "output_type": "display_data"
    }
   ],
   "source": [
    "### Training with manually updating W with \"Backward\" ###\n",
    "\n",
    "import torch\n",
    "#from torch.autograd import Variable\n",
    "import torch.nn as nn\n",
    "import torch.nn.functional as F\n",
    "import matplotlib.pyplot as plt\n",
    "import torch.optim as optim\n",
    "\n",
    "\n",
    "\n",
    "\n",
    "data = [(1.0,2.1,3.0), (2.0, 3.5, 6.0), (3.0, 3.0, 9.0), (4.0, 2.1, 12.0), (5.0, 7.2, 15.0), (6.0, 10.1, 18.0)]\n",
    "\n",
    "\n",
    "class Net(nn.Module):\n",
    "    def __init__(self):\n",
    "        super(Net, self).__init__()\n",
    "        self.linear = nn.Linear(2, 1)\n",
    "        \n",
    "    def forward(self, x):\n",
    "        return self.linear(x)\n",
    "    \n",
    "net = Net()\n",
    "\n",
    "print(net)\n",
    "print(list(net.parameters()))\n",
    "\n",
    "#input = torch.randn(1)\n",
    "#out = net(input)\n",
    "\n",
    "#def criterion(out, label):\n",
    "#    return (label - out)**2\n",
    "criterion = nn.MSELoss()\n",
    "\n",
    "\n",
    "optimizer = optim.SGD(net.parameters(), lr=0.01, momentum=0.5)\n",
    "#optimizer = optim.Adam(net.parameters(), lr=0.005)\n",
    "\n",
    "epoch = 100\n",
    "batch_size = 3\n",
    "loss_history = []\n",
    "\n",
    "for i in range(epoch):\n",
    "    for j in range(0, len(data), batch_size):\n",
    "        running_loss = 0.0\n",
    "        samples = data[j: j + batch_size]\n",
    "        inputs = torch.tensor([x[:2] for x in samples], dtype=torch.float)\n",
    "        labels = torch.tensor([x[2] for x in samples], dtype=torch.float).unsqueeze(1)\n",
    "        optimizer.zero_grad()\n",
    "        outputs = net(inputs)\n",
    "        loss = criterion(outputs, labels)\n",
    "        loss.backward()\n",
    "        optimizer.step()\n",
    "        running_loss += loss.item()\n",
    "    loss_history.append(running_loss)\n",
    "    # print(\"Epoch {} loss: {}\".format(i, loss_history[i]))\n",
    "    \n",
    "plt.plot(loss_history)"
   ]
  },
  {
   "cell_type": "code",
   "execution_count": 18,
   "id": "ddefe950",
   "metadata": {},
   "outputs": [
    {
     "name": "stdout",
     "output_type": "stream",
     "text": [
      "when x = tensor([1.0000, 2.1000]), label = 3.0,  y = tensor([3.2072], grad_fn=<AddBackward0>)\n",
      "when x = tensor([2.0000, 3.5000]), label = 6.0,  y = tensor([6.1614], grad_fn=<AddBackward0>)\n",
      "when x = tensor([3., 3.]), label = 9.0,  y = tensor([9.0795], grad_fn=<AddBackward0>)\n",
      "when x = tensor([4.0000, 2.1000]), label = 12.0,  y = tensor([11.9901], grad_fn=<AddBackward0>)\n",
      "when x = tensor([5.0000, 7.2000]), label = 15.0,  y = tensor([15.0144], grad_fn=<AddBackward0>)\n",
      "when x = tensor([ 6.0000, 10.1000]), label = 18.0,  y = tensor([17.9971], grad_fn=<AddBackward0>)\n"
     ]
    }
   ],
   "source": [
    "# inference\n",
    "for i, current_data in enumerate(data):\n",
    "    inputs = torch.tensor(current_data[:2], dtype=torch.float)\n",
    "    labels = torch.tensor(current_data[2], dtype=torch.float)\n",
    "    output = net(inputs)  \n",
    "    print(\"when x = {}, label = {},  y = {}\".format(inputs, labels, output))"
   ]
  }
 ],
 "metadata": {
  "kernelspec": {
   "display_name": "Python 3 (ipykernel)",
   "language": "python",
   "name": "python3"
  },
  "language_info": {
   "codemirror_mode": {
    "name": "ipython",
    "version": 3
   },
   "file_extension": ".py",
   "mimetype": "text/x-python",
   "name": "python",
   "nbconvert_exporter": "python",
   "pygments_lexer": "ipython3",
   "version": "3.9.13"
  }
 },
 "nbformat": 4,
 "nbformat_minor": 5
}
