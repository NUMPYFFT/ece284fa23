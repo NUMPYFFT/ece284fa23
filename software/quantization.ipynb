{
 "cells": [
  {
   "cell_type": "code",
   "execution_count": null,
   "metadata": {},
   "outputs": [],
   "source": [
    "import torch\n",
    "import torch.nn as nn\n",
    "from models import *\n",
    "\n",
    "# Assuming the quantization functions and classes are defined as provided earlier\n",
    "\n",
    "# Load the model\n",
    "model = resnet20_cifar().to('cuda')\n",
    "model_name = 'resnet20_cifar'\n",
    "fdir = 'result/' + str(model_name) + '/model_best.pth.tar'\n",
    "checkpoint = torch.load(fdir)\n",
    "model.load_state_dict(checkpoint['state_dict'])\n",
    "\n",
    "# Quantize weights\n",
    "def quantize_weights(model, w_bits=4):\n",
    "    state_dict = model.state_dict()\n",
    "    for name, param in state_dict.items():\n",
    "        if 'conv' in name and 'weight' in name:\n",
    "            # Quantize the weights to w_bits\n",
    "            wgt_alpha = max(param.abs())\n",
    "            weight_quant = weight_quantization(w_bits)\n",
    "            state_dict[name] = weight_quant(param, wgt_alpha).mul(wgt_alpha)\n",
    "    model.load_state_dict(state_dict)\n",
    "\n",
    "# Apply the quantization function to the model's weights\n",
    "quantize_weights(model, w_bits=4)  # For 4-bit quantization\n",
    "\n",
    "# Now the model's weights are quantized and the model is ready to be evaluated.\n"
   ]
  }
 ],
 "metadata": {
  "language_info": {
   "name": "python"
  }
 },
 "nbformat": 4,
 "nbformat_minor": 2
}
